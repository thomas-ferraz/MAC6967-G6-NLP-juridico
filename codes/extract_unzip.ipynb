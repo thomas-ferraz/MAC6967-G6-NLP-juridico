{
  "nbformat": 4,
  "nbformat_minor": 0,
  "metadata": {
    "colab": {
      "name": "Unzip.ipynb",
      "provenance": []
    },
    "kernelspec": {
      "name": "python_defaultSpec_1601410754610",
      "display_name": "Python 3.8.5 64-bit ('3.8.5')"
    }
  },
  "cells": [
    {
      "cell_type": "markdown",
      "metadata": {
        "id": "J2b_xcmtVDPM",
        "colab_type": "text"
      },
      "source": [
        "# Unzipping files\n",
        "\n",
        "This notebook extracts data from zip files in the dataset2"
      ]
    },
    {
      "source": [
        "The next cells are needed to run the notebook inside the Google Colaboratory platform, with the datasets in Google Drive\n",
        "\n",
        "# WARNING\n",
        "Due to Google Colaboratory and Drive limitations, it is not currently possible to extract all files in the platform. There is a 400.000 files limit in Team Drives, and a IO operations limit in both Team and Private Drives.  \n",
        "https://support.google.com/a/answer/7338880?hl=en  \n",
        "https://research.google.com/colaboratory/faq.html"
      ],
      "cell_type": "markdown",
      "metadata": {}
    },
    {
      "cell_type": "code",
      "execution_count": null,
      "metadata": {},
      "outputs": [],
      "source": [
        "from google.colab import drive\n",
        "drive.mount('/content/drive')\n",
        "\n",
        "# dataset1 location in Google Drive\n",
        "PATH_falencias = '/content/drive/My Drive/MAC6967/mac6967/dataset2/falencias'\n",
        "PATH_unzip = '/content/drive/Shared Drives/Dados PDFs Falencias'\n",
        "PATH_log = '/content/drive/Shared Drives'"
      ]
    },
    {
      "source": [
        "The next cell is needed to run the notebook locally, with the datasets available in a local disk"
      ],
      "cell_type": "markdown",
      "metadata": {}
    },
    {
      "cell_type": "code",
      "execution_count": null,
      "metadata": {},
      "outputs": [],
      "source": [
        "PATH_falencias = '/run/media/raktanaka/4387-FFCB/dataset2/falencias'\n",
        "PATH_unzip = '/run/media/raktanaka/4387-FFCB/falenciaspdf'\n",
        "PATH_log = '/run/media/raktanaka/4387-FFCB'"
      ]
    },
    {
      "source": [
        "The next cells unzips from dataset2/falencias"
      ],
      "cell_type": "markdown",
      "metadata": {}
    },
    {
      "cell_type": "code",
      "execution_count": null,
      "metadata": {},
      "outputs": [],
      "source": [
        "import os\n",
        "import zipfile"
      ]
    },
    {
      "cell_type": "code",
      "metadata": {
        "id": "3ryK0gU2KMRF",
        "colab_type": "code",
        "colab": {
          "base_uri": "https://localhost:8080/",
          "height": 34
        },
        "outputId": "bb2241f8-9431-4ed1-ff31-7612d7beee3c"
      },
      "source": [
        "processos = os.listdir(PATH_falencias)\n",
        "processos.sort()\n",
        "#tamanho = len(processos)\n",
        "\n",
        "log_succ = open(os.path.join(PATH_log, 'zip_success.log'), 'w')\n",
        "log_fail = open(os.path.join(PATH_log, 'zip_error.log'), 'w')\n",
        "\n",
        "for processo in processos:\n",
        "    PATH_processo = os.path.join(PATH_falencias, processo)\n",
        "    files = os.listdir(PATH_processo)\n",
        "    zip_file = processo + '.zip'\n",
        "    if (zip_file) in files:\n",
        "        try:\n",
        "            zip_ref = zipfile.ZipFile(os.path.join(PATH_processo, zip_file), 'r')\n",
        "            zip_ref.extractall(os.path.join(PATH_unzip, processo))\n",
        "            zip_ref.close()\n",
        "            log_succ.write(processo + '\\n')\n",
        "        except:\n",
        "            log_fail.write(processo + '\\n')\n",
        "            continue\n",
        "\n",
        "    \n",
        "log_succ.close()\n",
        "log_fail.close()"
      ],
      "execution_count": null,
      "outputs": []
    },
    {
      "cell_type": "code",
      "execution_count": null,
      "metadata": {},
      "outputs": [],
      "source": []
    }
  ]
}
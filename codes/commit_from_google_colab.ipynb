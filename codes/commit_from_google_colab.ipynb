{
  "nbformat": 4,
  "nbformat_minor": 0,
  "metadata": {
    "colab": {
      "name": "Commit_From_Google_Colab.ipynb",
      "provenance": [],
      "collapsed_sections": [],
      "toc_visible": true
    },
    "kernelspec": {
      "name": "python3",
      "display_name": "Python 3"
    }
  },
  "cells": [
    {
      "cell_type": "markdown",
      "metadata": {
        "id": "U2mGa66l7PRi"
      },
      "source": [
        "# Commit to Gitlab from Google Colab \n",
        "\n"
      ]
    },
    {
      "cell_type": "markdown",
      "metadata": {
        "id": "ooq9ygts7cbE"
      },
      "source": [
        "Due to the size of the datasets, we chose to handle the data in Google Drive, which has storage capacity for large files.\n",
        "\n",
        "As we are dealing with [GitLab](https://gitlab.com/), which does not have integration like Colab like GitHub, it is necessary to produce code that allows to use google drive as a git repository that is a clone of the remote repository."
      ]
    },
    {
      "cell_type": "markdown",
      "metadata": {
        "id": "2VdEoVaLFsBP"
      },
      "source": [
        "\n",
        "*  **Step 1:** Clone the repository\n",
        "> * Choose any path you want, remember that it must be on your personal drive and not on any shared drive. \n",
        "> * Replace \\<USER> with your GitLab username and \\<TOKEN> with the token you get from [Personal Access Tokens](https://gitlab.com/profile/personal_access_tokens). \n"
      ]
    },
    {
      "cell_type": "code",
      "metadata": {
        "id": "pDl31QlC7DDO",
        "outputId": "6d7ea60a-5cbb-4710-fe8b-bfde0861b5a6",
        "colab": {
          "base_uri": "https://localhost:8080/",
          "height": 119
        }
      },
      "source": [
        "!git -C '/content/drive/My Drive/MAC6967/Desenvolvimento/Repositório' clone https://<USER>:<TOKEN>@gitlab.com/thomas-ferraz/MAC6967-G6-NLP-juridico.git"
      ],
      "execution_count": 21,
      "outputs": [
        {
          "output_type": "stream",
          "text": [
            "Cloning into 'MAC6967-G6-NLP-juridico'...\n",
            "remote: Enumerating objects: 61, done.\u001b[K\n",
            "remote: Counting objects: 100% (61/61), done.\u001b[K\n",
            "remote: Compressing objects: 100% (41/41), done.\u001b[K\n",
            "remote: Total 67 (delta 20), reused 58 (delta 17), pack-reused 6\u001b[K\n",
            "Unpacking objects: 100% (67/67), done.\n"
          ],
          "name": "stdout"
        }
      ]
    },
    {
      "cell_type": "markdown",
      "metadata": {
        "id": "Bz_PKHZTHfe3"
      },
      "source": [
        "*  **Step 2:** Go to the PATH"
      ]
    },
    {
      "cell_type": "code",
      "metadata": {
        "id": "KQ05Nuv0HnEs"
      },
      "source": [
        "!cd '/content/drive/My Drive/MAC6967/Desenvolvimento/Repositório'"
      ],
      "execution_count": null,
      "outputs": []
    },
    {
      "cell_type": "markdown",
      "metadata": {
        "id": "5kxwCQ45G1gV"
      },
      "source": [
        "*  **Step 3:** Add the origin "
      ]
    },
    {
      "cell_type": "code",
      "metadata": {
        "id": "nY7Vc-COAivb",
        "outputId": "4f66a97d-d88e-44b7-a7bf-847e13b41c31",
        "colab": {
          "base_uri": "https://localhost:8080/",
          "height": 34
        }
      },
      "source": [
        "!git remote add origin https://<USER>:<TOKEN>@gitlab.com/thomas-ferraz/MAC6967-G6-NLP-juridico.git"
      ],
      "execution_count": 10,
      "outputs": [
        {
          "output_type": "stream",
          "text": [
            "fatal: remote origin already exists.\n"
          ],
          "name": "stdout"
        }
      ]
    },
    {
      "cell_type": "markdown",
      "metadata": {
        "id": "yGEBvFIPHL9O"
      },
      "source": [
        "*  **Step 4:** Use git commands such as *pull* and *push*. "
      ]
    },
    {
      "cell_type": "code",
      "metadata": {
        "id": "cgq2Mb9mAuJS",
        "outputId": "2a2888d6-a59c-4743-d0dc-788734eedf6e",
        "colab": {
          "base_uri": "https://localhost:8080/",
          "height": 153
        }
      },
      "source": [
        "!git pull origin master"
      ],
      "execution_count": 23,
      "outputs": [
        {
          "output_type": "stream",
          "text": [
            "remote: Enumerating objects: 49, done.\u001b[K\n",
            "remote: Counting objects:   2% (1/49)\u001b[K\rremote: Counting objects:   4% (2/49)\u001b[K\rremote: Counting objects:   6% (3/49)\u001b[K\rremote: Counting objects:   8% (4/49)\u001b[K\rremote: Counting objects:  10% (5/49)\u001b[K\rremote: Counting objects:  12% (6/49)\u001b[K\rremote: Counting objects:  14% (7/49)\u001b[K\rremote: Counting objects:  16% (8/49)\u001b[K\rremote: Counting objects:  18% (9/49)\u001b[K\rremote: Counting objects:  20% (10/49)\u001b[K\rremote: Counting objects:  22% (11/49)\u001b[K\rremote: Counting objects:  24% (12/49)\u001b[K\rremote: Counting objects:  26% (13/49)\u001b[K\rremote: Counting objects:  28% (14/49)\u001b[K\rremote: Counting objects:  30% (15/49)\u001b[K\rremote: Counting objects:  32% (16/49)\u001b[K\rremote: Counting objects:  34% (17/49)\u001b[K\rremote: Counting objects:  36% (18/49)\u001b[K\rremote: Counting objects:  38% (19/49)\u001b[K\rremote: Counting objects:  40% (20/49)\u001b[K\rremote: Counting objects:  42% (21/49)\u001b[K\rremote: Counting objects:  44% (22/49)\u001b[K\rremote: Counting objects:  46% (23/49)\u001b[K\rremote: Counting objects:  48% (24/49)\u001b[K\rremote: Counting objects:  51% (25/49)\u001b[K\rremote: Counting objects:  53% (26/49)\u001b[K\rremote: Counting objects:  55% (27/49)\u001b[K\rremote: Counting objects:  57% (28/49)\u001b[K\rremote: Counting objects:  59% (29/49)\u001b[K\rremote: Counting objects:  61% (30/49)\u001b[K\rremote: Counting objects:  63% (31/49)\u001b[K\rremote: Counting objects:  65% (32/49)\u001b[K\rremote: Counting objects:  67% (33/49)\u001b[K\rremote: Counting objects:  69% (34/49)\u001b[K\rremote: Counting objects:  71% (35/49)\u001b[K\rremote: Counting objects:  73% (36/49)\u001b[K\rremote: Counting objects:  75% (37/49)\u001b[K\rremote: Counting objects:  77% (38/49)\u001b[K\rremote: Counting objects:  79% (39/49)\u001b[K\rremote: Counting objects:  81% (40/49)\u001b[K\rremote: Counting objects:  83% (41/49)\u001b[K\rremote: Counting objects:  85% (42/49)\u001b[K\rremote: Counting objects:  87% (43/49)\u001b[K\rremote: Counting objects:  89% (44/49)\u001b[K\rremote: Counting objects:  91% (45/49)\u001b[K\rremote: Counting objects:  93% (46/49)\u001b[K\rremote: Counting objects:  95% (47/49)\u001b[K\rremote: Counting objects:  97% (48/49)\u001b[K\rremote: Counting objects: 100% (49/49)\u001b[K\rremote: Counting objects: 100% (49/49), done.\u001b[K\n",
            "remote: Compressing objects: 100% (35/35), done.\u001b[K\n",
            "remote: Total 55 (delta 14), reused 44 (delta 11), pack-reused 6\u001b[K\n",
            "Unpacking objects: 100% (55/55), done.\n",
            "From https://gitlab.com/thomas-ferraz/MAC6967-G6-NLP-juridico\n",
            " * branch            master     -> FETCH_HEAD\n",
            " * [new branch]      master     -> origin/master\n"
          ],
          "name": "stdout"
        }
      ]
    }
  ]
}
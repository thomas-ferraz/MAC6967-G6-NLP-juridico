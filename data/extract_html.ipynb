{
  "nbformat": 4,
  "nbformat_minor": 0,
  "metadata": {
    "colab": {
      "name": "DadosJuridicos.ipynb",
      "provenance": [],
      "collapsed_sections": []
    },
    "kernelspec": {
      "name": "python3",
      "display_name": "Python 3"
    }
  },
  "cells": [
    {
      "cell_type": "code",
      "metadata": {
        "id": "T81HLreyaBrs",
        "outputId": "549a664e-877e-4f2e-f9aa-0bf21878187c",
        "colab": {
          "base_uri": "https://localhost:8080/",
          "height": 34
        }
      },
      "source": [
        "#Import data from google drive\n",
        "\n",
        "from google.colab import drive\n",
        "\n",
        "drive.mount(\"/content/drive\")\n",
        "\n",
        "import os\n"
      ],
      "execution_count": null,
      "outputs": [
        {
          "output_type": "stream",
          "text": [
            "Drive already mounted at /content/drive; to attempt to forcibly remount, call drive.mount(\"/content/drive\", force_remount=True).\n"
          ],
          "name": "stdout"
        }
      ]
    },
    {
      "cell_type": "code",
      "metadata": {
        "id": "kMPEDJiZkUfP",
        "outputId": "641b593d-b92c-4dc7-9610-37f8936bd094",
        "colab": {
          "base_uri": "https://localhost:8080/",
          "height": 292
        }
      },
      "source": [
        "#Install libraries\n",
        "!pip install dateparser\n",
        "!pip install unidecode"
      ],
      "execution_count": null,
      "outputs": [
        {
          "output_type": "stream",
          "text": [
            "Collecting dateparser\n",
            "\u001b[?25l  Downloading https://files.pythonhosted.org/packages/c1/d5/5a2e51bc0058f66b54669735f739d27afc3eb453ab00520623c7ab168e22/dateparser-0.7.6-py2.py3-none-any.whl (362kB)\n",
            "\r\u001b[K     |█                               | 10kB 17.5MB/s eta 0:00:01\r\u001b[K     |█▉                              | 20kB 1.9MB/s eta 0:00:01\r\u001b[K     |██▊                             | 30kB 2.4MB/s eta 0:00:01\r\u001b[K     |███▋                            | 40kB 2.7MB/s eta 0:00:01\r\u001b[K     |████▌                           | 51kB 2.1MB/s eta 0:00:01\r\u001b[K     |█████▍                          | 61kB 2.4MB/s eta 0:00:01\r\u001b[K     |██████▍                         | 71kB 2.7MB/s eta 0:00:01\r\u001b[K     |███████▎                        | 81kB 2.9MB/s eta 0:00:01\r\u001b[K     |████████▏                       | 92kB 3.1MB/s eta 0:00:01\r\u001b[K     |█████████                       | 102kB 3.0MB/s eta 0:00:01\r\u001b[K     |██████████                      | 112kB 3.0MB/s eta 0:00:01\r\u001b[K     |██████████▉                     | 122kB 3.0MB/s eta 0:00:01\r\u001b[K     |███████████▊                    | 133kB 3.0MB/s eta 0:00:01\r\u001b[K     |████████████▊                   | 143kB 3.0MB/s eta 0:00:01\r\u001b[K     |█████████████▋                  | 153kB 3.0MB/s eta 0:00:01\r\u001b[K     |██████████████▌                 | 163kB 3.0MB/s eta 0:00:01\r\u001b[K     |███████████████▍                | 174kB 3.0MB/s eta 0:00:01\r\u001b[K     |████████████████▎               | 184kB 3.0MB/s eta 0:00:01\r\u001b[K     |█████████████████▏              | 194kB 3.0MB/s eta 0:00:01\r\u001b[K     |██████████████████              | 204kB 3.0MB/s eta 0:00:01\r\u001b[K     |███████████████████             | 215kB 3.0MB/s eta 0:00:01\r\u001b[K     |████████████████████            | 225kB 3.0MB/s eta 0:00:01\r\u001b[K     |████████████████████▉           | 235kB 3.0MB/s eta 0:00:01\r\u001b[K     |█████████████████████▊          | 245kB 3.0MB/s eta 0:00:01\r\u001b[K     |██████████████████████▋         | 256kB 3.0MB/s eta 0:00:01\r\u001b[K     |███████████████████████▌        | 266kB 3.0MB/s eta 0:00:01\r\u001b[K     |████████████████████████▍       | 276kB 3.0MB/s eta 0:00:01\r\u001b[K     |█████████████████████████▍      | 286kB 3.0MB/s eta 0:00:01\r\u001b[K     |██████████████████████████▎     | 296kB 3.0MB/s eta 0:00:01\r\u001b[K     |███████████████████████████▏    | 307kB 3.0MB/s eta 0:00:01\r\u001b[K     |████████████████████████████    | 317kB 3.0MB/s eta 0:00:01\r\u001b[K     |█████████████████████████████   | 327kB 3.0MB/s eta 0:00:01\r\u001b[K     |█████████████████████████████▉  | 337kB 3.0MB/s eta 0:00:01\r\u001b[K     |██████████████████████████████▊ | 348kB 3.0MB/s eta 0:00:01\r\u001b[K     |███████████████████████████████▊| 358kB 3.0MB/s eta 0:00:01\r\u001b[K     |████████████████████████████████| 368kB 3.0MB/s \n",
            "\u001b[?25hRequirement already satisfied: tzlocal in /usr/local/lib/python3.6/dist-packages (from dateparser) (1.5.1)\n",
            "Requirement already satisfied: regex!=2019.02.19 in /usr/local/lib/python3.6/dist-packages (from dateparser) (2019.12.20)\n",
            "Requirement already satisfied: python-dateutil in /usr/local/lib/python3.6/dist-packages (from dateparser) (2.8.1)\n",
            "Requirement already satisfied: pytz in /usr/local/lib/python3.6/dist-packages (from dateparser) (2018.9)\n",
            "Requirement already satisfied: six>=1.5 in /usr/local/lib/python3.6/dist-packages (from python-dateutil->dateparser) (1.15.0)\n",
            "Installing collected packages: dateparser\n",
            "Successfully installed dateparser-0.7.6\n",
            "Collecting unidecode\n",
            "\u001b[?25l  Downloading https://files.pythonhosted.org/packages/d0/42/d9edfed04228bacea2d824904cae367ee9efd05e6cce7ceaaedd0b0ad964/Unidecode-1.1.1-py2.py3-none-any.whl (238kB)\n",
            "\u001b[K     |████████████████████████████████| 245kB 3.0MB/s \n",
            "\u001b[?25hInstalling collected packages: unidecode\n",
            "Successfully installed unidecode-1.1.1\n"
          ],
          "name": "stdout"
        }
      ]
    },
    {
      "cell_type": "code",
      "metadata": {
        "id": "E6z6KpCxfIxe"
      },
      "source": [
        "#Import packages\n",
        "import pandas as pd\n",
        "import csv\n",
        "import sys\n",
        "import re\n",
        "import numpy as np\n",
        "import matplotlib.pyplot as plt\n",
        "import dateparser\n",
        "from dateparser.search import search_dates\n",
        "#from sklearn.manifold import TSNE\n",
        "#import matplotlib.pyplot as plt\n",
        "#import seaborn as sns\n",
        "import time\n",
        "from time import sleep\n",
        "import unidecode\n",
        "from tqdm import tqdm\n",
        "import re\n",
        "import spacy\n",
        "#Libraries and functions\n",
        "#import utils\n",
        "#from utils import *\n",
        "from dateutil.parser import parse\n",
        "#Functions\n",
        "from collections import Counter\n",
        "import string\n",
        "#from top2vec import Top2Vec\n",
        "#import gensim\n",
        "#import logging\n",
        "#import scipy.sparse\n",
        "#logging.basicConfig(format='%(asctime)s : %(levelname)s : %(message)s', level=logging.INFO)\n",
        "#Libraries and functions\n",
        "#import utils\n",
        "#from utils import *\n",
        "#import pyreadr\n",
        "#import pandas as pd\n",
        "from bs4 import BeautifulSoup\n",
        "import lxml\n",
        "from lxml.html.clean import Cleaner\n",
        "from lxml.html import fromstring"
      ],
      "execution_count": null,
      "outputs": []
    },
    {
      "cell_type": "code",
      "metadata": {
        "id": "v3OXC1tWaJPH",
        "outputId": "b3e566e7-b59b-4484-d05a-b00430c2a924",
        "colab": {
          "base_uri": "https://localhost:8080/",
          "height": 35
        }
      },
      "source": [
        "#Get data from drive\n",
        "dataset2f = '/content/drive/Shared drives/NLP Jurídico - Lab. Ciência de Dados/falencias'\n",
        "\n",
        "root2f, dirs2f, files2f = next(os.walk(dataset2f))\n",
        "nfiles2f = len(dirs2f)\n",
        "\n",
        "nfiles2f = 0\n",
        "size2f = 0\n",
        "for each_dir in dirs2f:\n",
        "  sub_path = os.path.join(root2f, each_dir)\n",
        "  sub_root, sub_dirs, sub_files = next(os.walk(sub_path))\n",
        "  nfiles2f = nfiles2f + len(sub_files)\n",
        "  for each_file in sub_files:\n",
        "    size2f = size2f + os.path.getsize(os.path.join(sub_root, each_file))\n",
        "\n",
        "\"\"\"Coleta de dados dos processos\"\"\"\n"
      ],
      "execution_count": null,
      "outputs": [
        {
          "output_type": "execute_result",
          "data": {
            "application/vnd.google.colaboratory.intrinsic+json": {
              "type": "string"
            },
            "text/plain": [
              "'Coleta de dados dos processos'"
            ]
          },
          "metadata": {
            "tags": []
          },
          "execution_count": 5
        }
      ]
    },
    {
      "cell_type": "code",
      "metadata": {
        "id": "cZwfRl3GameI"
      },
      "source": [
        "#Get data from csv uploaded from drive\n",
        "csv.field_size_limit(sys.maxsize)\n",
        "dataset2f = '/content/drive/Shared drives/NLP Jurídico - Lab. Ciência de Dados/falencias.csv'"
      ],
      "execution_count": null,
      "outputs": []
    },
    {
      "cell_type": "code",
      "metadata": {
        "id": "168XdGx1aIWD",
        "outputId": "819f44e1-6f7b-4707-e7ba-01311db60649",
        "colab": {
          "base_uri": "https://localhost:8080/",
          "height": 221
        }
      },
      "source": [
        "#Main data\n",
        "df = pd.read_csv(dataset2f)\n",
        "df['NumeroDoProcesso']=df['NumeroDoProcesso'].str.replace(']','').str.replace('[','')\n",
        "df['html']=df['html'].str.replace(']','').str.replace('[','')\n",
        "print(df.shape)\n",
        "df.head()"
      ],
      "execution_count": null,
      "outputs": [
        {
          "output_type": "stream",
          "text": [
            "(5589, 3)\n"
          ],
          "name": "stdout"
        },
        {
          "output_type": "execute_result",
          "data": {
            "text/html": [
              "<div>\n",
              "<style scoped>\n",
              "    .dataframe tbody tr th:only-of-type {\n",
              "        vertical-align: middle;\n",
              "    }\n",
              "\n",
              "    .dataframe tbody tr th {\n",
              "        vertical-align: top;\n",
              "    }\n",
              "\n",
              "    .dataframe thead th {\n",
              "        text-align: right;\n",
              "    }\n",
              "</style>\n",
              "<table border=\"1\" class=\"dataframe\">\n",
              "  <thead>\n",
              "    <tr style=\"text-align: right;\">\n",
              "      <th></th>\n",
              "      <th>NumeroDoProcesso</th>\n",
              "      <th>html</th>\n",
              "      <th>ProcessoEletronico</th>\n",
              "    </tr>\n",
              "  </thead>\n",
              "  <tbody>\n",
              "    <tr>\n",
              "      <th>0</th>\n",
              "      <td>'1119140-80.2015.8.26.0100'</td>\n",
              "      <td>'&lt;html xmlns=\"http://www.w3.org/1999/xhtml\"&gt;&lt;h...</td>\n",
              "      <td>[1]</td>\n",
              "    </tr>\n",
              "    <tr>\n",
              "      <th>1</th>\n",
              "      <td>'1119144-20.2015.8.26.0100'</td>\n",
              "      <td>'&lt;html xmlns=\"http://www.w3.org/1999/xhtml\"&gt;&lt;h...</td>\n",
              "      <td>[1]</td>\n",
              "    </tr>\n",
              "    <tr>\n",
              "      <th>2</th>\n",
              "      <td>'1119183-17.2015.8.26.0100'</td>\n",
              "      <td>'&lt;html xmlns=\"http://www.w3.org/1999/xhtml\"&gt;&lt;h...</td>\n",
              "      <td>[1]</td>\n",
              "    </tr>\n",
              "    <tr>\n",
              "      <th>3</th>\n",
              "      <td>'1119198-20.2014.8.26.0100'</td>\n",
              "      <td>'&lt;html xmlns=\"http://www.w3.org/1999/xhtml\"&gt;&lt;h...</td>\n",
              "      <td>[1]</td>\n",
              "    </tr>\n",
              "    <tr>\n",
              "      <th>4</th>\n",
              "      <td>'1119203-08.2015.8.26.0100'</td>\n",
              "      <td>'&lt;html xmlns=\"http://www.w3.org/1999/xhtml\"&gt;&lt;h...</td>\n",
              "      <td>[1]</td>\n",
              "    </tr>\n",
              "  </tbody>\n",
              "</table>\n",
              "</div>"
            ],
            "text/plain": [
              "              NumeroDoProcesso  ... ProcessoEletronico\n",
              "0  '1119140-80.2015.8.26.0100'  ...                [1]\n",
              "1  '1119144-20.2015.8.26.0100'  ...                [1]\n",
              "2  '1119183-17.2015.8.26.0100'  ...                [1]\n",
              "3  '1119198-20.2014.8.26.0100'  ...                [1]\n",
              "4  '1119203-08.2015.8.26.0100'  ...                [1]\n",
              "\n",
              "[5 rows x 3 columns]"
            ]
          },
          "metadata": {
            "tags": []
          },
          "execution_count": 156
        }
      ]
    },
    {
      "cell_type": "code",
      "metadata": {
        "id": "Jvz5ffD-ezBz"
      },
      "source": [
        "#Cleaning\n",
        "for i in range(0,len(df)):\n",
        "    \n",
        "    soup = BeautifulSoup(df['html'][i])\n",
        "\n",
        "    # kill all script and style elements\n",
        "    for script in soup([\"script\", \"style\"]):\n",
        "        script.extract()    # rip it out\n",
        "\n",
        "    # get text\n",
        "    text = soup.get_text()\n",
        "\n",
        "    # break into lines and remove leading and trailing space on each\n",
        "    lines = (line.strip() for line in text.splitlines())\n",
        "    # break multi-headlines into a line each\n",
        "    chunks = (phrase.strip() for line in lines for phrase in line.split(\"  \"))\n",
        "    # drop blank lines\n",
        "    text = '\\n'.join(chunk for chunk in chunks if chunk)\n",
        "    text = \"\".join(text.split('\\\\n'))\n",
        "    text = \"\".join(text.split('\\\\t')).replace('\\\\n',' ')\n",
        "    #text = \"\".join(text.split('\\n'))\n",
        "    text = text.replace('\\\\xa0','')\n",
        "    text = text.replace('Advogada','Advogado')\n",
        "    df['html'][i] = text.lower()\n"
      ],
      "execution_count": null,
      "outputs": []
    },
    {
      "cell_type": "code",
      "metadata": {
        "id": "aUcCAGgXj2aZ"
      },
      "source": [
        "#New dataframe\n",
        "dfinal = pd.DataFrame(columns=['num_proc','status','juiz','terceiros','rep_legal','valor_acao','reqte','adv_reqte','reqdo','adv_reqdo'])\n",
        "errors=[]\n",
        "for i in range(0,len(df)):\n",
        "  #print(i)\n",
        "  try:\n",
        "  #Numero processo e satus\n",
        "    a=\"\".join(re.findall(\"[\\d.-]\", df['html'][i].replace('\\n','').split('dados do processo')[1].split('processo:')[1].split('classe:')[0]))\n",
        "    #s=\"\".join(re.findall(\"[^\\d\\W]\", df['html'][i].replace('\\n','').split('dados do processo')[1].split('processo:')[1].split('classe:')[0]))\n",
        "    s=\"\".join(re.findall(\"[^\\d:.,-]+\", df['html'][i].replace('\\n','').split('dados do processo')[1].split('processo:')[1].split('classe:')[0]))\n",
        "  except:\n",
        "    a=''\n",
        "    s=''\n",
        "    errors+=[i]\n",
        "\n",
        "  try:\n",
        "\n",
        "    t=df['html'][i].split('partes do processo')[1].split('movimentações')[0].split('terintcer:')[1].split('\\n')[0]\n",
        "    r=\",\".join(list(filter(lambda x: 'repreleg:' in x,df['html'][i].split('reqdo')[1].split('\\n'))))\n",
        "    r=r.replace('repreleg:','')\n",
        "  except:\n",
        "    t=r=''\n",
        "\n",
        "  try:\n",
        "    #Juiz, terceiros, representante\n",
        "    #b=df['html'][i].split('dados do processo')[1].split('juiz:')[1].split('valor da ação:')[0].replace('\\n','')\n",
        "    if 'outros' in df['html'][i].split('dados do processo')[1].split('juiz:')[1].split('valor da ação:')[0]:\n",
        "      b=\" \".join(re.findall(r'[^\\s0-9-,.]+',df['html'][i].split('dados do processo')[1].split('juiz:')[1].split('valor da ação:')[0])[:-2])\n",
        "    else:\n",
        "      b=\" \".join(re.findall(r'[^\\s0-9-,.]+',df['html'][i].split('dados do processo')[1].split('juiz:')[1].split('valor da ação:')[0]))\n",
        "\n",
        "  except:\n",
        "    b=''\n",
        "    errors+=[i]\n",
        "  #Valor da ação\n",
        "  try:\n",
        "    c=re.findall(\"r[$]\\d{1,3}.\\d{3}\\,\\d{2}\", df['html'][i].replace('\\n','').split('dados do processo')[1].split('processo:')[1].split('valor da ação:')[1])[0]\n",
        "    c=c.replace('r$','')\n",
        "    #c=re.findall(\"[r$]\\d{1,3}.\\d{3}\\,\\d{2}\", df['html'][i].replace('\\n','').split('dados do processo')[1].split('processo:')[1].split('valor da ação:')[1])[0]\n",
        "  except:\n",
        "    c=''\n",
        "    errors+=[i]\n",
        "  try:\n",
        "    if 'reqdo' in df['html'][i]:\n",
        "      x='reqdo'\n",
        "    else:\n",
        "      x='falido'\n",
        "    #Requerente\n",
        "    d=\" \".join(re.findall(r'[^\\s0-9-,.]+',df['html'][i].split('reqte:')[1].split('advogado')[0]))\n",
        "    #d=df['html'][i].split('reqte:')[1].split('advogado')[0]\n",
        "    #Advogado Requerente\n",
        "    e=\" \".join(re.findall(r'[^\\s0-9-,.:]+',df['html'][i].split('reqte:')[1].split('advogado')[1].split(x)[0]))\n",
        "    #e=df['html'][i].split('reqte:')[1].split('advogado')[1].split(x)[0]\n",
        "    #Requerido\n",
        "    #f=\" \".join(re.findall(r'[^\\s0-9-,.:]+',df['html'][i].split(x)[1].split('advogado')[0]))\n",
        "    #f=df['html'][i].split(x)[1].split('advogado')[0]\n",
        "    f=re.findall(r'[^0-9-,.:]+',df['html'][i].split(x)[1].split('\\n')[0])[0]\n",
        "    #Advogado Requerido\n",
        "    g=\",\".join(list(filter(lambda x: 'advogado:' in x,df['html'][i].split(x)[1].split('\\n'))))\n",
        "    g=g.replace('advogado:','')\n",
        "   \n",
        "  except:\n",
        "    errors+=[i]\n",
        "    d=e=f=g=''\n",
        "\n",
        "  dfinal=dfinal.append({'num_proc':a,'status':s,'juiz':b,'terceiros':t,'rep_legal':r,'valor_acao':c,'reqte':d,'adv_reqte':e,'reqdo':f,'adv_reqdo':g},ignore_index=True)\n",
        "  errors=list(set(errors))\n"
      ],
      "execution_count": null,
      "outputs": []
    },
    {
      "cell_type": "code",
      "metadata": {
        "id": "IAsop_xUEihH",
        "outputId": "4c90fb99-ae3d-4f09-c7a2-d831d7a5f07a",
        "colab": {
          "base_uri": "https://localhost:8080/",
          "height": 844
        }
      },
      "source": [
        "dfinal"
      ],
      "execution_count": null,
      "outputs": [
        {
          "output_type": "execute_result",
          "data": {
            "text/html": [
              "<div>\n",
              "<style scoped>\n",
              "    .dataframe tbody tr th:only-of-type {\n",
              "        vertical-align: middle;\n",
              "    }\n",
              "\n",
              "    .dataframe tbody tr th {\n",
              "        vertical-align: top;\n",
              "    }\n",
              "\n",
              "    .dataframe thead th {\n",
              "        text-align: right;\n",
              "    }\n",
              "</style>\n",
              "<table border=\"1\" class=\"dataframe\">\n",
              "  <thead>\n",
              "    <tr style=\"text-align: right;\">\n",
              "      <th></th>\n",
              "      <th>num_proc</th>\n",
              "      <th>status</th>\n",
              "      <th>juiz</th>\n",
              "      <th>terceiros</th>\n",
              "      <th>rep_legal</th>\n",
              "      <th>valor_acao</th>\n",
              "      <th>reqte</th>\n",
              "      <th>adv_reqte</th>\n",
              "      <th>reqdo</th>\n",
              "      <th>adv_reqdo</th>\n",
              "    </tr>\n",
              "  </thead>\n",
              "  <tbody>\n",
              "    <tr>\n",
              "      <th>0</th>\n",
              "      <td>1119140-80.2015.8.26.0100</td>\n",
              "      <td>extinto</td>\n",
              "      <td>tiago henriques papaterra limongi</td>\n",
              "      <td></td>\n",
              "      <td></td>\n",
              "      <td>36.021,98</td>\n",
              "      <td>saferpak plásticos ltda</td>\n",
              "      <td>adriano ramos molina</td>\n",
              "      <td>arabor componentes para calçados ltda</td>\n",
              "      <td>eliana galvao dias, regis jose de oliveira rocha</td>\n",
              "    </tr>\n",
              "    <tr>\n",
              "      <th>1</th>\n",
              "      <td>1119144-20.2015.8.26.0100</td>\n",
              "      <td>extinto</td>\n",
              "      <td>tiago henriques papaterra limongi</td>\n",
              "      <td></td>\n",
              "      <td></td>\n",
              "      <td>38.553,15</td>\n",
              "      <td>demarca comercial lavanderia ltda</td>\n",
              "      <td>josé cintra de morais junior</td>\n",
              "      <td>aksobya hotel ltda</td>\n",
              "      <td>josé cintra de morais junior,josé cintra de mo...</td>\n",
              "    </tr>\n",
              "    <tr>\n",
              "      <th>2</th>\n",
              "      <td>1119183-17.2015.8.26.0100</td>\n",
              "      <td>extinto</td>\n",
              "      <td>paulo furtado de oliveira filho</td>\n",
              "      <td></td>\n",
              "      <td></td>\n",
              "      <td>404.023,64</td>\n",
              "      <td>ds engenharia e comércio s a</td>\n",
              "      <td>vitor carvalho lopes</td>\n",
              "      <td>soemeg terraplenagem e pavimentação e construç...</td>\n",
              "      <td></td>\n",
              "    </tr>\n",
              "    <tr>\n",
              "      <th>3</th>\n",
              "      <td>1119198-20.2014.8.26.0100</td>\n",
              "      <td>extinto</td>\n",
              "      <td>paulo furtado de oliveira filho</td>\n",
              "      <td></td>\n",
              "      <td></td>\n",
              "      <td>96.340,00</td>\n",
              "      <td>oliveira e costa ltda</td>\n",
              "      <td>valdomiro jose de freitas</td>\n",
              "      <td>empreendimentos e inc</td>\n",
              "      <td>fabio cellio soares</td>\n",
              "    </tr>\n",
              "    <tr>\n",
              "      <th>4</th>\n",
              "      <td>1119203-08.2015.8.26.0100</td>\n",
              "      <td>extinto</td>\n",
              "      <td>paulo furtado de oliveira filho</td>\n",
              "      <td></td>\n",
              "      <td></td>\n",
              "      <td>61.000,00</td>\n",
              "      <td>antonio gomes dos santos &amp; licenças me</td>\n",
              "      <td>tiago salerno menezes da silva</td>\n",
              "      <td>rodopiro transportes pesados ltda</td>\n",
              "      <td></td>\n",
              "    </tr>\n",
              "    <tr>\n",
              "      <th>...</th>\n",
              "      <td>...</td>\n",
              "      <td>...</td>\n",
              "      <td>...</td>\n",
              "      <td>...</td>\n",
              "      <td>...</td>\n",
              "      <td>...</td>\n",
              "      <td>...</td>\n",
              "      <td>...</td>\n",
              "      <td>...</td>\n",
              "      <td>...</td>\n",
              "    </tr>\n",
              "    <tr>\n",
              "      <th>5584</th>\n",
              "      <td>0002260-42.2014.8.26.0428</td>\n",
              "      <td>arquivado</td>\n",
              "      <td>carlos eduardo mendes</td>\n",
              "      <td></td>\n",
              "      <td></td>\n",
              "      <td>56.549,89</td>\n",
              "      <td>cedros consultoria ltda me</td>\n",
              "      <td>enilton jose sabino repreleg edivaldo anderson...</td>\n",
              "      <td>cjf de vigilancia ltda</td>\n",
              "      <td>antonio jose neaime, simone neaime pereira</td>\n",
              "    </tr>\n",
              "    <tr>\n",
              "      <th>5585</th>\n",
              "      <td>0002260-91.2015.8.26.0659</td>\n",
              "      <td></td>\n",
              "      <td>euzy lopes feijó liberatti</td>\n",
              "      <td></td>\n",
              "      <td></td>\n",
              "      <td>41.650,87</td>\n",
              "      <td>manetoni distribuidora de produtos siderúrgico...</td>\n",
              "      <td>nilson dos santos almeida</td>\n",
              "      <td>r r steel indústria e comércio ltda</td>\n",
              "      <td>eduardo birkman, paulo birkman</td>\n",
              "    </tr>\n",
              "    <tr>\n",
              "      <th>5586</th>\n",
              "      <td>0002263-02.2013.8.26.0082008.22.0130.002263</td>\n",
              "      <td>()</td>\n",
              "      <td>heloisa helena franchi nogueira lucas</td>\n",
              "      <td></td>\n",
              "      <td></td>\n",
              "      <td>40.386,75</td>\n",
              "      <td>gerdau acos longos sa</td>\n",
              "      <td>carlos augusto marcondes de o monteiro</td>\n",
              "      <td>engefag indústria e comercio ltda</td>\n",
              "      <td>fernanda de oliveira pacheco, rafael eustaquio...</td>\n",
              "    </tr>\n",
              "    <tr>\n",
              "      <th>5587</th>\n",
              "      <td>0002283-13.2013.8.26.0625062.52.0130.002283</td>\n",
              "      <td>()extinto</td>\n",
              "      <td>eliza amélia maia santos</td>\n",
              "      <td>asdrubal augusto do nascimento</td>\n",
              "      <td></td>\n",
              "      <td>4.823,77</td>\n",
              "      <td>lilian regina moreira da silva</td>\n",
              "      <td>carlos roberto da silva</td>\n",
              "      <td>pet class independencia veterinária ltda</td>\n",
              "      <td>asdrubal augusto do nascimento,carlos roberto ...</td>\n",
              "    </tr>\n",
              "    <tr>\n",
              "      <th>5588</th>\n",
              "      <td></td>\n",
              "      <td>'</td>\n",
              "      <td></td>\n",
              "      <td></td>\n",
              "      <td></td>\n",
              "      <td></td>\n",
              "      <td></td>\n",
              "      <td></td>\n",
              "      <td></td>\n",
              "      <td></td>\n",
              "    </tr>\n",
              "  </tbody>\n",
              "</table>\n",
              "<p>5589 rows × 10 columns</p>\n",
              "</div>"
            ],
            "text/plain": [
              "                                         num_proc  ...                                          adv_reqdo\n",
              "0                       1119140-80.2015.8.26.0100  ...   eliana galvao dias, regis jose de oliveira rocha\n",
              "1                       1119144-20.2015.8.26.0100  ...  josé cintra de morais junior,josé cintra de mo...\n",
              "2                       1119183-17.2015.8.26.0100  ...                                                   \n",
              "3                       1119198-20.2014.8.26.0100  ...                                fabio cellio soares\n",
              "4                       1119203-08.2015.8.26.0100  ...                                                   \n",
              "...                                           ...  ...                                                ...\n",
              "5584                    0002260-42.2014.8.26.0428  ...         antonio jose neaime, simone neaime pereira\n",
              "5585                    0002260-91.2015.8.26.0659  ...                     eduardo birkman, paulo birkman\n",
              "5586  0002263-02.2013.8.26.0082008.22.0130.002263  ...  fernanda de oliveira pacheco, rafael eustaquio...\n",
              "5587  0002283-13.2013.8.26.0625062.52.0130.002283  ...  asdrubal augusto do nascimento,carlos roberto ...\n",
              "5588                                               ...                                                   \n",
              "\n",
              "[5589 rows x 10 columns]"
            ]
          },
          "metadata": {
            "tags": []
          },
          "execution_count": 159
        }
      ]
    }
  ]
}
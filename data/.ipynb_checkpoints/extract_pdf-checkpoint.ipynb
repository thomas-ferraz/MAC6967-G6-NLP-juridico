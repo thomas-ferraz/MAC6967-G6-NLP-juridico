{
 "cells": [
  {
   "cell_type": "markdown",
   "metadata": {},
   "source": [
    "# Data acquisition from .pdf files\n",
    "\n",
    "This notebook acquires data from the dataset2/falencias\n",
    "\n",
    "Requirements:\n",
    "\n",
    "*   textract - Enables easier extraction of text from .pdf files\n",
    "*   pandas - Provides dataframes for storage, and conversion to .csv"
   ]
  },
  {
   "cell_type": "markdown",
   "metadata": {},
   "source": [
    "The next cells are needed to run the notebook inside the Google Colaboratory platform, with the datasets in Google Drive"
   ]
  },
  {
   "cell_type": "code",
   "execution_count": null,
   "metadata": {
    "colab": {
     "base_uri": "https://localhost:8080/",
     "height": 411
    },
    "colab_type": "code",
    "executionInfo": {
     "elapsed": 3234,
     "status": "ok",
     "timestamp": 1600386299849,
     "user": {
      "displayName": "Pedro Henrique Barbosa de Almeida",
      "photoUrl": "",
      "userId": "11730038738616894500"
     },
     "user_tz": 180
    },
    "id": "Fpa6xAMVfCoq",
    "outputId": "4158c01e-ecca-4454-f9e7-e25a9889dab9"
   },
   "outputs": [],
   "source": [
    "!pip install textract"
   ]
  },
  {
   "cell_type": "markdown",
   "metadata": {},
   "source": [
    "Setting up connection to Google Drive"
   ]
  },
  {
   "cell_type": "code",
   "execution_count": null,
   "metadata": {
    "colab": {
     "base_uri": "https://localhost:8080/",
     "height": 54
    },
    "colab_type": "code",
    "executionInfo": {
     "elapsed": 765,
     "status": "ok",
     "timestamp": 1600386301232,
     "user": {
      "displayName": "Pedro Henrique Barbosa de Almeida",
      "photoUrl": "",
      "userId": "11730038738616894500"
     },
     "user_tz": 180
    },
    "id": "m_9pSOhzfG-t",
    "outputId": "1aadf26e-ce15-4c42-eb44-b7794bd0e3cf"
   },
   "outputs": [],
   "source": [
    "from google.colab import drive\n",
    "drive.mount('/content/drive')\n",
    "\n",
    "# dataset2 location in Google Drive\n",
    "PATH_falencias = '/content/drive/Shared drives/NLP Jurídico - Lab. Ciência de Dados/Dados PDFs falencias'\n",
    "PATH_save = '/content/drive/Shared drives/NLP Jurídico - Lab. Ciência de Dados'"
   ]
  },
  {
   "cell_type": "markdown",
   "metadata": {},
   "source": [
    "The next cell is needed to run the notebook locally, with the datasets available in a local disk"
   ]
  },
  {
   "cell_type": "code",
   "execution_count": 6,
   "metadata": {},
   "outputs": [],
   "source": [
    "PATH_falencias = '/run/media/raktanaka/KINGSTON/dataset2'\n",
    "PATH_save = '/run/media/raktanaka/KINGSTON'"
   ]
  },
  {
   "cell_type": "code",
   "execution_count": 2,
   "metadata": {},
   "outputs": [],
   "source": [
    "import os\n",
    "import csv\n",
    "import textract\n",
    "import unicodedata\n",
    "import re"
   ]
  },
  {
   "cell_type": "code",
   "execution_count": 3,
   "metadata": {},
   "outputs": [],
   "source": [
    "def GetPDFData(suit, path_pdf, log_succ, log_fail):\n",
    "\n",
    "    full_file_name = os.path.split(path_pdf)[1]\n",
    "    row_dict = {}\n",
    "\n",
    "    try:\n",
    "        begin_parenthesis_i = full_file_name.find('(')\n",
    "        doc_type = full_file_name[:begin_parenthesis_i-1]\n",
    "        # Normalizes graphic accentuation\n",
    "        doc_type = unicodedata.normalize('NFC', doc_type)\n",
    "        doc_type = doc_type.lower()\n",
    "        begin_sheet_no = 0\n",
    "        end_sheet_no = 0\n",
    "        signer_name = ''\n",
    "\n",
    "        pag_found = False\n",
    "        file_name = full_file_name[begin_parenthesis_i:]\n",
    "\n",
    "        '''\n",
    "        Gets the initial and final page from the file name\n",
    "        '''\n",
    "        # Tries to get what's between two parenthesis (...). If the string \"pag\"\n",
    "        # isn't present, tries to get two more parenthesis (...) in the file name.\n",
    "        # This is crucial because there are filenames like \"Bla (AR) (pag. xxx - xxx).pdf\"\n",
    "\n",
    "        while(not pag_found):\n",
    "            begin_parenthesis_i = file_name.find('(')\n",
    "            end_parenthesis_i = file_name.find(')')\n",
    "\n",
    "            # Checks if there're still substrings with \"(...)\"\n",
    "            if begin_parenthesis_i != -1:\n",
    "                # Checks if there's something like \"(pag)\" within the substring\n",
    "                if 'pag' in file_name[begin_parenthesis_i:end_parenthesis_i]:\n",
    "                    pag_found = True\n",
    "                    # Checks if there're one or two pages in the file name\n",
    "                    dash_index = file_name.find('-')\n",
    "                    if dash_index != -1:\n",
    "                        begin_sheet_no = int(\n",
    "                            file_name[begin_parenthesis_i+4:dash_index-1])\n",
    "                        end_sheet_no = int(\n",
    "                            file_name[dash_index+1:end_parenthesis_i])\n",
    "                    else:\n",
    "                        begin_sheet_no = int(\n",
    "                            file_name[begin_parenthesis_i+4:end_parenthesis_i])\n",
    "                        end_sheet_no = int(\n",
    "                            file_name[begin_parenthesis_i+4:end_parenthesis_i])\n",
    "            else:\n",
    "                pag_found = True\n",
    "            file_name = file_name[end_parenthesis_i+1:]\n",
    "\n",
    "        '''\n",
    "        Extracts the string from the PDF\n",
    "        '''\n",
    "        if (len(full_file_name) > 4 and full_file_name[-4:] == '.pdf'):\n",
    "            text = textract.process(path_pdf)\n",
    "            text = text.decode(\"utf-8\")\n",
    "            text = unicodedata.normalize('NFC', text)\n",
    "            text = text.lower()\n",
    "            text = text.replace('\\n', '')\n",
    "            signature_date = ''\n",
    "\n",
    "            '''\n",
    "            Tries to find the signature date \n",
    "            '''\n",
    "            index_date = text.find(\"protocolado em\")\n",
    "            if index_date != -1:\n",
    "                signature_date = text[index_date+15:index_date+25]\n",
    "            else:\n",
    "                index_date = text.find(\"liberado nos autos em\")\n",
    "                if index_date != -1:\n",
    "                    signature_date = text[index_date+22:index_date+32]\n",
    "            '''\n",
    "            Tries to find who has signed the documento\n",
    "            '''\n",
    "            signer_name_i = text.find(\"assinado digitalmente por\")\n",
    "            if signer_name_i != -1:\n",
    "                index_end_name = text[signer_name_i:].find(',')\n",
    "                signer_name = text[signer_name_i +\n",
    "                                   26:signer_name_i+index_end_name]\n",
    "\n",
    "            # Filters the PDF string, removing the stopwords and other garbage.\n",
    "            text = re.sub(\n",
    "                '(para conferir o original)(.+?)(e código [0-9A-za-z]+\\.)', '', text)\n",
    "            text = re.sub(\n",
    "                '(este documento é cópia do original).+?(às [0-9]{2}:[0-9]{2} , sob o número [A-Za-z0-9]+\\.)', '', text)\n",
    "            text = re.sub(\n",
    "                '(este documento é cópia do original).+?(liberado nos autos em [0-9]{2}/[0-9]{2}/[0-9]{4} às [0-9]{2}:[0-9]{2} . )', '', text)\n",
    "\n",
    "        row_dict = {'n_processo': suit, 'tipo_documento': doc_type,\n",
    "                    'string': text, 'data_doc': signature_date, 'assinado_por': signer_name,\n",
    "                    'n_folha_inicio': begin_sheet_no, 'n_folha_fim': end_sheet_no}\n",
    "\n",
    "        log_succ.write(suit + ' ' + full_file_name + '\\n')\n",
    "\n",
    "    except:\n",
    "        log_fail.write(suit + ' ' + full_file_name + '\\n')\n",
    "        pass\n",
    "\n",
    "    return(row_dict)"
   ]
  },
  {
   "cell_type": "code",
   "execution_count": 4,
   "metadata": {},
   "outputs": [],
   "source": [
    "def walk_dirs(root, dirs):\n",
    "\n",
    "    path = os.path.join(root, dirs)\n",
    "    subroot, subdirs, files = next(os.walk(path))\n",
    "    \n",
    "    if subdirs:\n",
    "        for each_dir in subdirs:\n",
    "            subfiles = walk_dirs(subroot, each_dir)\n",
    "            subfiles = [os.path.join(each_dir, f) for f in subfiles]\n",
    "            files.extend(subfiles)\n",
    "\n",
    "    return(files)\n",
    "            \n"
   ]
  },
  {
   "cell_type": "code",
   "execution_count": 8,
   "metadata": {
    "tags": []
   },
   "outputs": [],
   "source": [
    "# Files: success and failure logs, and the csv with pdf data\n",
    "log_succ = open(os.path.join(PATH_save, 'pdf_success.log'), 'w')\n",
    "log_fail = open(os.path.join(PATH_save, 'pdf_error.log'), 'w')\n",
    "csv_pdf = open(os.path.join(PATH_save, 'csv_pdf.csv'), 'w')\n",
    "csv_columns = ['n_processo', 'tipo_documento', 'string', 'data_doc', 'assinado_por', 'n_folha_inicio', 'n_folha_fim']\n",
    "writer = csv.row_dicttWriter(csv_pdf, fieldnames=csv_columns)\n",
    "writer.writeheader()\n",
    "\n",
    "# Get all processes = directories\n",
    "root, dirs, files = next(os.walk(PATH_falencias))\n",
    "dirs.sort()\n",
    "\n",
    "for suit in dirs:\n",
    "    p_root, p_dirs, p_files = next(os.walk(os.path.join(root, suit)))\n",
    "    # If has subdirectories, gets the pdfs inside\n",
    "    if p_dirs:\n",
    "        for each_dir in p_dirs:\n",
    "            # Skips hidden or system directories\n",
    "            if not each_dir.startswith('.') and not each_dir.startswith('System'):\n",
    "                subfiles = walk_dirs(p_root, each_dir)\n",
    "                subfiles = [os.path.join(each_dir, f) for f in subfiles]\n",
    "                p_files.extend(subfiles)\n",
    "\n",
    "    # With the list of all pdfs, starts processing the data\n",
    "    p_files.sort()\n",
    "    for pdf in p_files:\n",
    "        # Skips hidden or system files\n",
    "        if not pdf.startswith('.') and not pdf.startswith('System'):\n",
    "            row_dict = GetPDFData(suit, os.path.join(p_root, pdf), log_succ, log_fail)\n",
    "            if row_dict:\n",
    "                writer.writerow(row_dict)\n",
    "\n",
    "log_succ.close()\n",
    "log_fail.close()\n",
    "csv_pdf.close()"
   ]
  },
  {
   "cell_type": "code",
   "execution_count": null,
   "metadata": {},
   "outputs": [],
   "source": []
  }
 ],
 "metadata": {
  "colab": {
   "collapsed_sections": [],
   "name": "Abrir PDFs.ipynb",
   "provenance": []
  },
  "kernelspec": {
   "display_name": "Python 3",
   "language": "python",
   "name": "python3"
  },
  "language_info": {
   "codemirror_mode": {
    "name": "ipython",
    "version": 3
   },
   "file_extension": ".py",
   "mimetype": "text/x-python",
   "name": "python",
   "nbconvert_exporter": "python",
   "pygments_lexer": "ipython3",
   "version": "3.7.3"
  }
 },
 "nbformat": 4,
 "nbformat_minor": 1
}

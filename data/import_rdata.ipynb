{
  "nbformat": 4,
  "nbformat_minor": 0,
  "metadata": {
    "colab": {
      "name": "Untitled2.ipynb",
      "provenance": [],
      "collapsed_sections": []
    },
    "kernelspec": {
      "name": "python_defaultSpec_1601408716673",
      "display_name": "Python 3.8.5 64-bit",
      "metadata": {
        "interpreter": {
          "hash": "e7370f93d1d0cde622a1f8e1c04877d8463912d04d973331ad4851f04de6915a"
        }
      }
    },
    "accelerator": "GPU"
  },
  "cells": [
    {
      "cell_type": "markdown",
      "metadata": {
        "id": "Yqf4OIAAzv1b",
        "colab_type": "text"
      },
      "source": [
        "# Data acquisition from .rds files\n",
        "\n",
        "This notebook acquires data from the dataset1\n",
        "\n",
        "Requirements:\n",
        "\n",
        "*   rpy2 - Enables extraction of R-object data from .rds files\n",
        "*   pandas - Provides dataframes for storage, and conversion to .csv\n",
        "\n"
      ]
    },
    {
      "cell_type": "markdown",
      "metadata": {
        "id": "EjY2Cji009tA",
        "colab_type": "text"
      },
      "source": [
        "The next cells are needed to run the notebook inside the Google Colaboratory platform, with the datasets in Google Drive"
      ]
    },
    {
      "source": [
        "!pip install rpy2"
      ],
      "cell_type": "code",
      "metadata": {
        "id": "0olQvrQ0S0O7",
        "colab_type": "code",
        "colab": {
          "base_uri": "https://localhost:8080/",
          "height": 289
        },
        "outputId": "838edc2a-0425-48a1-9d29-8959517d1fde"
      },
      "execution_count": null,
      "outputs": []
    },
    {
      "source": [
        "Setting up connection to Google Drive"
      ],
      "cell_type": "markdown",
      "metadata": {}
    },
    {
      "cell_type": "code",
      "execution_count": null,
      "metadata": {},
      "outputs": [],
      "source": [
        "from google.colab import drive\n",
        "drive.mount('/content/drive')\n",
        "\n",
        "# dataset1 location in Google Drive\n",
        "PATH_falencias = '/content/drive/My Drive/6-Processamento de Linguagem Natural em decisões judiciais/dataset1/falencias'\n",
        "PATH_recjud = '/content/drive/My Drive/6-Processamento de Linguagem Natural em decisões judiciais/dataset1/recuperacoes_judiciais'\n",
        "PATH_save = '/content/drive/Shared drives/NLP Jurídico - Lab. Ciência de Dados'"
      ]
    },
    {
      "source": [
        "The next cell is needed to run the notebook locally, with the datasets available in a local disk"
      ],
      "cell_type": "markdown",
      "metadata": {}
    },
    {
      "cell_type": "code",
      "execution_count": 6,
      "metadata": {},
      "outputs": [],
      "source": [
        "PATH_falencias = '/home/raktanaka/USP/MAC6967-G6-NLP-juridico/dataset1/falencias'\n",
        "PATH_recjud = '/home/raktanaka/USP/MAC6967-G6-NLP-juridico/dataset1/recuperacoes_judiciais'\n",
        "PATH_save = '/home/raktanaka/USP/MAC6967-G6-NLP-juridico/dataset1'"
      ]
    },
    {
      "cell_type": "markdown",
      "metadata": {
        "id": "3jGLtgc-1Hmu",
        "colab_type": "text"
      },
      "source": [
        "The next cells make the data extraction from dataset1/falencias"
      ]
    },
    {
      "cell_type": "code",
      "execution_count": 7,
      "metadata": {},
      "outputs": [],
      "source": [
        "from os import listdir\n",
        "from os.path import isfile, join\n",
        "import rpy2.robjects as ro\n",
        "import pandas as pd"
      ]
    },
    {
      "cell_type": "code",
      "metadata": {
        "id": "qgIYWDhaWBBO",
        "colab_type": "code",
        "colab": {
          "base_uri": "https://localhost:8080/",
          "height": 241
        },
        "outputId": "3a053d01-7203-4f76-f581-2a9b4511a65f"
      },
      "source": [
        "CSV_fsave = 'falencias.csv'\n",
        "CSV_falencias = join(PATH_save, CSV_fsave)\n",
        "\n",
        "readRDS = ro.r['readRDS']\n",
        "\n",
        "# file list inside the directory\n",
        "onlyfiles = [f for f in listdir(PATH_falencias) if isfile(join(PATH_falencias, f))]\n",
        "\n",
        "NumeroDoProcesso = []\n",
        "html = []\n",
        "ProcessoEletronico = []\n",
        "\n",
        "for x in onlyfiles:\n",
        "  df_r = readRDS(join(PATH_falencias, x))\n",
        "  df = ro.conversion.rpy2py(df_r)\n",
        "  NumeroDoProcesso.append(df[0])\n",
        "  html.append(df[1])\n",
        "  ProcessoEletronico.append(df[2])\n",
        "\n",
        "df_final = pd.DataFrame({\"NumeroDoProcesso\" : NumeroDoProcesso, \n",
        "                         \"html\" : html,\n",
        "                         \"ProcessoEletronico\" : ProcessoEletronico})\n",
        "\n",
        "#df_final.head()\n",
        "\n",
        "df_final.to_csv(CSV_falencias, index = False)\n"
      ],
      "execution_count": 8,
      "outputs": []
    },
    {
      "cell_type": "markdown",
      "metadata": {
        "id": "OOCrbzwh1SQa",
        "colab_type": "text"
      },
      "source": [
        "The next cells make the data extraction from dataset1/recuperacoes_judiciais"
      ]
    },
    {
      "cell_type": "code",
      "execution_count": 9,
      "metadata": {},
      "outputs": [],
      "source": [
        "from os import listdir\n",
        "from os.path import isfile, join\n",
        "import rpy2.robjects as ro\n",
        "import pandas as pd"
      ]
    },
    {
      "cell_type": "code",
      "metadata": {
        "id": "CFw53z7mzUoG",
        "colab_type": "code",
        "colab": {}
      },
      "source": [
        "CSV_rsave = 'recuperacoes_judiciais.csv'\n",
        "CSV_recjud = join(PATH_save, CSV_rsave)\n",
        "\n",
        "readRDS = ro.r['readRDS']\n",
        "\n",
        "onlyfiles = [f for f in listdir(PATH_recjud) if isfile(join(PATH_recjud, f))] #Lista de arquivos na pasta\n",
        "\n",
        "NumeroDoProcesso = []\n",
        "html = []\n",
        "ProcessoEletronico = []\n",
        "\n",
        "for x in onlyfiles:\n",
        "  df_r = readRDS(join(PATH_recjud, x))\n",
        "  df = ro.conversion.rpy2py(df_r)\n",
        "  NumeroDoProcesso.append(df[0])\n",
        "  html.append(df[1])\n",
        "  ProcessoEletronico.append(df[2])\n",
        "\n",
        "df_final = pd.DataFrame({\"NumeroDoProcesso\" : NumeroDoProcesso, \n",
        "                         \"html\" : html,\n",
        "                         \"ProcessoEletronico\" : ProcessoEletronico})\n",
        "\n",
        "#df_final.head()\n",
        "\n",
        "df_final.to_csv(CSV_recjud, index = False)"
      ],
      "execution_count": 11,
      "outputs": []
    },
    {
      "cell_type": "code",
      "execution_count": null,
      "metadata": {},
      "outputs": [],
      "source": []
    }
  ]
}